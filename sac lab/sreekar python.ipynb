{
 "cells": [
  {
   "cell_type": "code",
   "execution_count": 18,
   "id": "b02361fc",
   "metadata": {},
   "outputs": [
    {
     "data": {
      "text/plain": [
       "'car'"
      ]
     },
     "execution_count": 18,
     "metadata": {},
     "output_type": "execute_result"
    }
   ],
   "source": [
    "import re\n",
    "def remove_punctuation(value):\n",
    "    return re.sub(\"[!#?@^]\",\"\",value)\n",
    "remove_punctuation(\"car@^\")"
   ]
  },
  {
   "cell_type": "code",
   "execution_count": 19,
   "id": "465fe313",
   "metadata": {},
   "outputs": [
    {
     "name": "stdout",
     "output_type": "stream",
     "text": [
      "Car\n"
     ]
    }
   ],
   "source": [
    "string=\"car\"\n",
    "value=str.strip(string)\n",
    "value=str.title(value)\n",
    "print(value)"
   ]
  },
  {
   "cell_type": "code",
   "execution_count": 20,
   "id": "0d9ecd1e",
   "metadata": {},
   "outputs": [
    {
     "data": {
      "text/plain": [
       "['Alabama', 'Georgia', 'Floriida', 'South Carolina', 'West Virginia']"
      ]
     },
     "execution_count": 20,
     "metadata": {},
     "output_type": "execute_result"
    }
   ],
   "source": [
    "import re\n",
    "states=[\" alabama\",\"GeorgiA!\",\"fLORiIda\", \" south carolina##\",\"West virginia?\"]\n",
    "clean_ops=[str.strip,remove_punctuation,str.title]\n",
    "def remove_punctuation(value):\n",
    "    return re.sub(\"[!#?@^]\",\"\",value)\n",
    "def clean_strings(states,clean_ops):\n",
    "    result=[]\n",
    "    for value in states:\n",
    "        for func in clean_ops:\n",
    "            value=func(value)\n",
    "        result.append(value)\n",
    "    return result\n",
    "clean_strings(states,clean_ops)\n"
   ]
  },
  {
   "cell_type": "code",
   "execution_count": 21,
   "id": "f09f413d",
   "metadata": {},
   "outputs": [
    {
     "name": "stdout",
     "output_type": "stream",
     "text": [
      " alabama\n",
      "GeorgiA\n",
      "fLORiIda\n",
      " south carolina\n",
      "West virginia\n"
     ]
    }
   ],
   "source": [
    "for x in map(remove_punctuation,states):\n",
    "    print(x)"
   ]
  },
  {
   "cell_type": "code",
   "execution_count": null,
   "id": "88fce12a",
   "metadata": {},
   "outputs": [],
   "source": []
  }
 ],
 "metadata": {
  "kernelspec": {
   "display_name": "Python 3 (ipykernel)",
   "language": "python",
   "name": "python3"
  },
  "language_info": {
   "codemirror_mode": {
    "name": "ipython",
    "version": 3
   },
   "file_extension": ".py",
   "mimetype": "text/x-python",
   "name": "python",
   "nbconvert_exporter": "python",
   "pygments_lexer": "ipython3",
   "version": "3.11.4"
  }
 },
 "nbformat": 4,
 "nbformat_minor": 5
}
