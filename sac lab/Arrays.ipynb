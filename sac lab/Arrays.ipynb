{
 "cells": [
  {
   "cell_type": "code",
   "execution_count": 46,
   "id": "a401f392",
   "metadata": {},
   "outputs": [
    {
     "name": "stdout",
     "output_type": "stream",
     "text": [
      "Siddhartha\n",
      "165\n",
      "[11, 12, 23, 32, 43, 55, 43]\n"
     ]
    }
   ],
   "source": [
    "#import random as rm\n",
    "from numpy import random\n",
    "mylist = [\"Yethishwar\", \"Omair Ahmed\",\"Srikar\", \"Suresh\", \"Satish\", \"Kiran\", \"Siddhartha\"]\n",
    "random_integer = rm.randint(0,1000)\n",
    "random_choice = rm.choice(mylist)\n",
    "print(random_choice)\n",
    "print(random_integer)\n",
    "shuffle_list = [12,32,43,55,43,23,11]\n",
    "rm.shuffle(shuffle_list)\n",
    "print(shuffle_list)"
   ]
  },
  {
   "cell_type": "code",
   "execution_count": 48,
   "id": "7c930af8",
   "metadata": {},
   "outputs": [
    {
     "name": "stdout",
     "output_type": "stream",
     "text": [
      "1\n",
      "5\n",
      "15\n"
     ]
    }
   ],
   "source": [
    "import numpy as np\n",
    "\n",
    "# Creating a 1D array\n",
    "arr1d = np.array([1, 2, 3, 4, 5])\n",
    "\n",
    "# Creating a 2D array\n",
    "arr2d = np.array([[1, 2, 3], [4, 5, 6]])\n",
    "\n",
    "# Accessing elements\n",
    "print(arr1d[0])  # Output: 1\n",
    "print(arr2d[1, 1])  # Output: 5\n",
    "\n",
    "# Performing operations\n",
    "sum_arr1d = np.sum(arr1d)  # Sum of all elements in arr1d\n",
    "print(sum_arr1d)  # Output: 15\n"
   ]
  },
  {
   "cell_type": "code",
   "execution_count": 51,
   "id": "5cbc5aee",
   "metadata": {},
   "outputs": [
    {
     "name": "stdout",
     "output_type": "stream",
     "text": [
      "[25 42 24  3 40]\n",
      "[[ 0.21026368 -1.08190233  0.15314077]\n",
      " [ 0.03576534  0.98132162  0.24876478]\n",
      " [ 0.23606997  0.14212534 -0.5525276 ]]\n"
     ]
    }
   ],
   "source": [
    "import numpy as np\n",
    "\n",
    "# Generating random integers\n",
    "random_integers = np.random.randint(1, 100, size=5)  # 5 random integers between 1 and 100\n",
    "print(random_integers)\n",
    "\n",
    "# Generating random numbers from a normal distribution\n",
    "random_normal = np.random.normal(0, 1, size=(3, 3))  # 3x3 array of random numbers with mean 0 and standard deviation 1\n",
    "print(random_normal)\n"
   ]
  },
  {
   "cell_type": "code",
   "execution_count": 52,
   "id": "f0031345",
   "metadata": {},
   "outputs": [
    {
     "name": "stdout",
     "output_type": "stream",
     "text": [
      "Element-wise addition:\n",
      "[[ 6  8]\n",
      " [10 12]]\n",
      "\n",
      "Element-wise multiplication:\n",
      "[[ 5 12]\n",
      " [21 32]]\n",
      "\n",
      "Matrix multiplication:\n",
      "[[19 22]\n",
      " [43 50]]\n"
     ]
    }
   ],
   "source": [
    "import numpy as np\n",
    "\n",
    "# Creating arrays\n",
    "arr1 = np.array([[1, 2], [3, 4]])\n",
    "arr2 = np.array([[5, 6], [7, 8]])\n",
    "\n",
    "# Element-wise addition\n",
    "result_addition = arr1 + arr2\n",
    "print(\"Element-wise addition:\")\n",
    "print(result_addition)\n",
    "\n",
    "# Element-wise multiplication\n",
    "result_multiplication = arr1 * arr2\n",
    "print(\"\\nElement-wise multiplication:\")\n",
    "print(result_multiplication)\n",
    "\n",
    "# Matrix multiplication\n",
    "result_matrix_multiplication = np.dot(arr1, arr2)\n",
    "print(\"\\nMatrix multiplication:\")\n",
    "print(result_matrix_multiplication)\n"
   ]
  },
  {
   "cell_type": "code",
   "execution_count": null,
   "id": "9e2c0ef9",
   "metadata": {},
   "outputs": [],
   "source": []
  }
 ],
 "metadata": {
  "kernelspec": {
   "display_name": "Python 3 (ipykernel)",
   "language": "python",
   "name": "python3"
  },
  "language_info": {
   "codemirror_mode": {
    "name": "ipython",
    "version": 3
   },
   "file_extension": ".py",
   "mimetype": "text/x-python",
   "name": "python",
   "nbconvert_exporter": "python",
   "pygments_lexer": "ipython3",
   "version": "3.11.4"
  }
 },
 "nbformat": 4,
 "nbformat_minor": 5
}
