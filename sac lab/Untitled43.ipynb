{
 "cells": [
  {
   "cell_type": "code",
   "execution_count": 48,
   "id": "7de7f853",
   "metadata": {},
   "outputs": [
    {
     "name": "stdout",
     "output_type": "stream",
     "text": [
      "88\n",
      "124\n",
      "(4,)\n",
      "<class 'numpy.ndarray'>\n",
      "[3 4 5]\n"
     ]
    }
   ],
   "source": [
    "import sys\n",
    "import numpy as np\n",
    "m=[1,2,3]\n",
    "s=np.array(m)\n",
    "print(sys.getsizeof(m))\n",
    "print(sys.getsizeof(s))\n",
    "print(s.strides)\n",
    "print(type(s))\n",
    "print(s+2)"
   ]
  },
  {
   "cell_type": "code",
   "execution_count": 35,
   "id": "f4f3256a",
   "metadata": {},
   "outputs": [],
   "source": [
    "import array as ar\n",
    "a=ar.array('i',[1,2,3])\n",
    "a\n",
    "sys.getsizeof(a)"
   ]
  },
  {
   "cell_type": "code",
   "execution_count": 51,
   "id": "c62a96c0",
   "metadata": {},
   "outputs": [
    {
     "name": "stdout",
     "output_type": "stream",
     "text": [
      "type of a==>1\n",
      "dtype of a==>int32\n",
      "size of a==>3\n",
      "shape of a==>(3,)\n"
     ]
    }
   ],
   "source": [
    "print(f\"type of a==>{s.ndim}\")\n",
    "print(f\"dtype of a==>{s.dtype}\")\n",
    "print(f\"size of a==>{s.size}\")\n",
    "print(f\"shape of a==>{s.shape}\")\n"
   ]
  },
  {
   "cell_type": "code",
   "execution_count": null,
   "id": "ee10e752",
   "metadata": {},
   "outputs": [],
   "source": []
  }
 ],
 "metadata": {
  "kernelspec": {
   "display_name": "Python 3 (ipykernel)",
   "language": "python",
   "name": "python3"
  },
  "language_info": {
   "codemirror_mode": {
    "name": "ipython",
    "version": 3
   },
   "file_extension": ".py",
   "mimetype": "text/x-python",
   "name": "python",
   "nbconvert_exporter": "python",
   "pygments_lexer": "ipython3",
   "version": "3.11.4"
  }
 },
 "nbformat": 4,
 "nbformat_minor": 5
}
